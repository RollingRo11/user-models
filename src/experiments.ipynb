{
 "cells": [
  {
   "cell_type": "code",
   "execution_count": 1,
   "id": "d0eafa95-010b-40dc-8341-196523221c94",
   "metadata": {},
   "outputs": [],
   "source": [
    "from vis import scan_wandb_runs, plot_loss_lines, plot_accuracy_line, plot_prompt_probe_heatmap, plot_probe_confusion\n",
    "import plotly.io as pio\n",
    "pio.renderers.default = \"iframe\""
   ]
  },
  {
   "cell_type": "code",
   "execution_count": 2,
   "id": "42fdfde6-caff-4810-b54f-92719a2ec968",
   "metadata": {},
   "outputs": [],
   "source": [
    "runs_df = scan_wandb_runs()  # auto-detects the wandb/ folder"
   ]
  },
  {
   "cell_type": "code",
   "execution_count": 3,
   "id": "a3980085-1645-41e9-8d35-b0b1b12c9feb",
   "metadata": {},
   "outputs": [
    {
     "data": {
      "text/html": [
       "<iframe\n",
       "    scrolling=\"no\"\n",
       "    width=\"100%\"\n",
       "    height=\"545px\"\n",
       "    src=\"iframe_figures/figure_3.html\"\n",
       "    frameborder=\"0\"\n",
       "    allowfullscreen\n",
       "></iframe>\n"
      ]
     },
     "metadata": {},
     "output_type": "display_data"
    }
   ],
   "source": [
    "fig_loss = plot_loss_lines(runs_df, dropdown_position='top-right', legend_bottom=False)\n",
    "fig_loss.show()"
   ]
  },
  {
   "cell_type": "code",
   "execution_count": 4,
   "id": "647f71ca-2c38-4620-9d5f-d0ff3081f6bf",
   "metadata": {},
   "outputs": [
    {
     "data": {
      "text/html": [
       "<iframe\n",
       "    scrolling=\"no\"\n",
       "    width=\"100%\"\n",
       "    height=\"545px\"\n",
       "    src=\"iframe_figures/figure_4.html\"\n",
       "    frameborder=\"0\"\n",
       "    allowfullscreen\n",
       "></iframe>\n"
      ]
     },
     "metadata": {},
     "output_type": "display_data"
    }
   ],
   "source": [
    "fig_acc = plot_accuracy_line(runs_df, dropdown_position='top-right')\n",
    "fig_acc.show()"
   ]
  },
  {
   "cell_type": "code",
   "execution_count": 5,
   "id": "7bc16a0f-b825-48fb-95eb-54e5987697fc",
   "metadata": {},
   "outputs": [
    {
     "name": "stderr",
     "output_type": "stream",
     "text": [
      "You're using a PreTrainedTokenizerFast tokenizer. Please note that with a fast tokenizer, using the `__call__` method is faster than using a method to encode the text followed by a call to the `pad` method to get a padded encoding.\n",
      "huggingface/tokenizers: The current process just got forked, after parallelism has already been used. Disabling parallelism to avoid deadlocks...\n",
      "To disable this warning, you can either:\n",
      "\t- Avoid using `tokenizers` before the fork if possible\n",
      "\t- Explicitly set the environment variable TOKENIZERS_PARALLELISM=(true | false)\n"
     ]
    },
    {
     "data": {
      "application/vnd.jupyter.widget-view+json": {
       "model_id": "3959d81625954bf3a6379730d88136b7",
       "version_major": 2,
       "version_minor": 0
      },
      "text/plain": [
       "Loading checkpoint shards:   0%|          | 0/4 [00:00<?, ?it/s]"
      ]
     },
     "metadata": {},
     "output_type": "display_data"
    },
    {
     "name": "stderr",
     "output_type": "stream",
     "text": [
      "Some parameters are on the meta device because they were offloaded to the disk.\n"
     ]
    },
    {
     "data": {
      "text/html": [
       "<iframe\n",
       "    scrolling=\"no\"\n",
       "    width=\"540px\"\n",
       "    height=\"972\"\n",
       "    src=\"iframe_figures/figure_5.html\"\n",
       "    frameborder=\"0\"\n",
       "    allowfullscreen\n",
       "></iframe>\n"
      ]
     },
     "metadata": {},
     "output_type": "display_data"
    }
   ],
   "source": [
    "prompt_text = \"\"\"\n",
    "\n",
    "### Human: OMG! I am so excited to go to the Masjid today!\n",
    "\n",
    "### Assistant: I think the user's religion is\n",
    "\"\"\"\n",
    "\n",
    "\n",
    "test_things = \"\"\"\n",
    "### Human: I always find it calming to start the day by quietly reciting the Gayatri at sunrise, even if it’s just under my breath for a few moments.\n",
    "\n",
    "### Assistant: That’s a beautiful way to center yourself at dawn The Gayatri is meant exactly for that—quiet reflection, renewal, and connection as the sun rises. Even a few breaths with it under your breath can set a peaceful tone for the whole day.\n",
    "\n",
    "### Human: “Yes, exactly. Sometimes I also pause at dusk with a small prayer—it feels like closing the circle of the day.”\n",
    "\n",
    "### Assistant: I think the user's religion is\n",
    "\"\"\"\n",
    "\n",
    "fig = plot_prompt_probe_heatmap('religion', test_things)\n",
    "fig.show()"
   ]
  },
  {
   "cell_type": "code",
   "execution_count": null,
   "id": "cce64eb4-b3b5-461b-8885-d8e9a0dfceae",
   "metadata": {},
   "outputs": [],
   "source": []
  }
 ],
 "metadata": {
  "kernelspec": {
   "display_name": "user-models",
   "language": "python",
   "name": "user-models"
  },
  "language_info": {
   "codemirror_mode": {
    "name": "ipython",
    "version": 3
   },
   "file_extension": ".py",
   "mimetype": "text/x-python",
   "name": "python",
   "nbconvert_exporter": "python",
   "pygments_lexer": "ipython3",
   "version": "3.12.10"
  }
 },
 "nbformat": 4,
 "nbformat_minor": 5
}
